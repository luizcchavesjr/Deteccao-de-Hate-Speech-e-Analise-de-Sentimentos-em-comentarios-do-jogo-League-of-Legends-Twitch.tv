{
 "cells": [
  {
   "cell_type": "markdown",
   "metadata": {
    "editable": true
   },
   "source": [
    "# Detecção de Hate Speech e Análise de Sentimentos de Comentários Transmissões de Streamers do Jogo League of Legends"
   ]
  },
  {
   "cell_type": "markdown",
   "metadata": {
    "editable": true
   },
   "source": [
    "##### Dependências\n",
    "\n",
    "Estes são os requisitos necessários para seguir este tutorial:\n",
    "\n",
    "- [Python 3.x](https://www.python.org/downloads/)\n",
    "- [Jupyter Notebook](http://jupyter.org/install)\n",
    "- [Pandas](https://pandas.pydata.org)\n",
    "- [NLTK](https://www.nltk.org/)\n",
    "- [Polyglot](http://polyglot.readthedocs.io/en/latest/Installation.html)\n",
    "- [Scikit-Learn](http://scikit-learn.org/stable/install.html)\n",
    "- [Scipy](https://www.scipy.org/install.html)\n",
    "- [Wordcloud](https://github.com/amueller/word_cloud)\n",
    "- [Matplotlib](https://matplotlib.org/users/installing.html)\n",
    "- [Hatesonar](https://github.com/Hironsan/HateSonar)\n"
   ]
  },
  {
   "cell_type": "markdown",
   "metadata": {
    "editable": true
   },
   "source": [
    "## Leitura dos dados\n"
   ]
  },
  {
   "cell_type": "code",
   "execution_count": 4,
   "metadata": {
    "editable": true
   },
   "outputs": [],
   "source": [
    "import pandas as pd\n",
    "#Caminhos para os arquivos\n",
    "\n",
    "#filename = \"Dataset/C9Sneaky_comments.csv\"\n",
    "#filename = \"Dataset/DoubleLift_comments.csv\"\n",
    "#filename = \"Dataset/DoubleLift_comments.csv\"\n",
    "#filename = \"Dataset/lolTyler1_comments.csv\"\n",
    "#filename = \"Dataset/Nightblue3_comments.csv\"\n",
    "#filename = \"Dataset/Nightblue3_comments.csv\"\n",
    "#filename = \"Dataset/TFBlade_comments.csv\"\n",
    "#filename = \"Dataset/Trick2g_comments.csv\"\n",
    "#filename = \"Dataset/TSM_Bjergsen_comments.csv\"\n",
    "#filename = \"Dataset/Yassuo_comments.csv\"\n",
    "filename = \"Dataset/TwitchDataset.csv\" \n",
    "# Função que faz a leitura do dataset.\n",
    "def read_data(path, sep):\n",
    "    data = pd.read_csv(path, sep=sep)\n",
    "    return data"
   ]
  },
  {
   "cell_type": "code",
   "execution_count": 5,
   "metadata": {
    "editable": true
   },
   "outputs": [
    {
     "name": "stdout",
     "output_type": "stream",
     "text": [
      "0    peepoArrive Hello\n",
      "1          peepoArrive\n",
      "2                  Pog\n",
      "3               PogYou\n",
      "4     What’s up fucker\n",
      "Name: comment, dtype: object\n"
     ]
    }
   ],
   "source": [
    "dataset = read_data(filename, sep=\"\\t\")\n",
    "print(dataset.comment.head(5))"
   ]
  },
  {
   "cell_type": "markdown",
   "metadata": {},
   "source": [
    "### Número de Visualizações por Canal"
   ]
  },
  {
   "cell_type": "code",
   "execution_count": 6,
   "metadata": {},
   "outputs": [],
   "source": [
    "import pandas as pd\n",
    "\n",
    "def ch_num_of_views(text):\n",
    "    now = []\n",
    "    strm = []\n",
    "    num_com = []\n",
    "    for data in text:\n",
    "        df_prof=pd.read_csv(data, sep='\\t')\n",
    "        df1=list(df_prof.iloc[0:1].user_name)[0]\n",
    "        df2=list(df_prof.iloc[0:1].user_vcount)[0]\n",
    "        df2=str(df2)\n",
    "        df3=len(df_prof.message)\n",
    "        num_com.append(df3)\n",
    "        now.append(df2)\n",
    "        strm.append(df1)\n",
    "    return strm,now,num_com"
   ]
  },
  {
   "cell_type": "code",
   "execution_count": 7,
   "metadata": {},
   "outputs": [],
   "source": [
    "#Caminhos para os arquivos\n",
    "\n",
    "#file_pro= = \"Profiles/C9Sneaky.csv\"\n",
    "#file_pro = \"Profiles/DoubleLift.csv\"\n",
    "#file_pro = \"Profiles/foggedftw2.csv\"\n",
    "#file_pro = \"Profiles/lolTyler1.csv\"\n",
    "#file_pro = \"Profiles/Nightblue3.csv\"\n",
    "#file_pro = \"Profiles/Rush.csv\"\n",
    "#file_pro = \"Profiles/TFBlade.csv\"\n",
    "#file_pro = \"Profiles/Trick2g.csv\"\n",
    "#file_pro = \"Profiles/Yassuo.csv\"\n",
    "#file_pro = \"Profiles/TSM_Bjergsen.csv\"\n",
    "file_pro = [\"Profiles/TSM_Bjergsen.csv\",\"Profiles/Yassuo.csv\",\"Profiles/Trick2g.csv\",\"Profiles/TFBlade.csv\",\"Profiles/Rush.csv\",\n",
    "            \"Profiles/Nightblue3.csv\",\"Profiles/lolTyler1.csv\",\"Profiles/foggedftw2.csv\",\n",
    "            \"Profiles/DoubleLift.csv\",\"Profiles/C9Sneaky.csv\"]\n",
    "           \n",
    "strm_list,now_list,num_com_list=ch_num_of_views(file_pro)\n",
    "dict_now_strm= {'Streamer':strm_list,'Número de Visualizações':now_list}\n",
    "dict_com_strm ={'Streamer':strm_list,'Número de Comentários':num_com_list}\n",
    "df_now = pd.DataFrame(dict_now_strm,columns=['Streamer','Número de Visualizações'])\n",
    "df_com = pd.DataFrame(dict_com_strm,columns=['Streamer','Número de Comentários'])\n",
    "df_now['Número de Visualizações']= df_now['Número de Visualizações'].astype('int')\n",
    "df_now=df_now.sort_values(by='Número de Visualizações',ascending=False)\n",
    "df_com = df_com.sort_values(by='Número de Comentários',ascending=False)\n",
    "#df_now.to_csv(r'Num_visualizações/Num_views_ch.csv', index = None, header=True,sep='\\t')\n",
    "#df_com.to_csv(r'Num_visualizações/Num_comments_ch.csv', index = None, header=True,sep='\\t')"
   ]
  },
  {
   "cell_type": "code",
   "execution_count": 8,
   "metadata": {},
   "outputs": [
    {
     "data": {
      "text/html": [
       "<div>\n",
       "<style scoped>\n",
       "    .dataframe tbody tr th:only-of-type {\n",
       "        vertical-align: middle;\n",
       "    }\n",
       "\n",
       "    .dataframe tbody tr th {\n",
       "        vertical-align: top;\n",
       "    }\n",
       "\n",
       "    .dataframe thead th {\n",
       "        text-align: right;\n",
       "    }\n",
       "</style>\n",
       "<table border=\"1\" class=\"dataframe\">\n",
       "  <thead>\n",
       "    <tr style=\"text-align: right;\">\n",
       "      <th></th>\n",
       "      <th>Streamer</th>\n",
       "      <th>Número de Visualizações</th>\n",
       "    </tr>\n",
       "  </thead>\n",
       "  <tbody>\n",
       "    <tr>\n",
       "      <th>5</th>\n",
       "      <td>Nightblue3</td>\n",
       "      <td>218398725</td>\n",
       "    </tr>\n",
       "    <tr>\n",
       "      <th>2</th>\n",
       "      <td>Trick2g</td>\n",
       "      <td>144710525</td>\n",
       "    </tr>\n",
       "    <tr>\n",
       "      <th>6</th>\n",
       "      <td>loltyler1</td>\n",
       "      <td>134955884</td>\n",
       "    </tr>\n",
       "    <tr>\n",
       "      <th>9</th>\n",
       "      <td>C9Sneaky</td>\n",
       "      <td>104128583</td>\n",
       "    </tr>\n",
       "    <tr>\n",
       "      <th>0</th>\n",
       "      <td>TSM_Bjergsen</td>\n",
       "      <td>92608310</td>\n",
       "    </tr>\n",
       "    <tr>\n",
       "      <th>8</th>\n",
       "      <td>Doublelift</td>\n",
       "      <td>71162230</td>\n",
       "    </tr>\n",
       "    <tr>\n",
       "      <th>1</th>\n",
       "      <td>Yassuo</td>\n",
       "      <td>54649565</td>\n",
       "    </tr>\n",
       "    <tr>\n",
       "      <th>3</th>\n",
       "      <td>TFBlade</td>\n",
       "      <td>40392663</td>\n",
       "    </tr>\n",
       "    <tr>\n",
       "      <th>4</th>\n",
       "      <td>Rush</td>\n",
       "      <td>19790153</td>\n",
       "    </tr>\n",
       "    <tr>\n",
       "      <th>7</th>\n",
       "      <td>foggedftw2</td>\n",
       "      <td>4909203</td>\n",
       "    </tr>\n",
       "  </tbody>\n",
       "</table>\n",
       "</div>"
      ],
      "text/plain": [
       "       Streamer  Número de Visualizações\n",
       "5    Nightblue3                218398725\n",
       "2       Trick2g                144710525\n",
       "6     loltyler1                134955884\n",
       "9      C9Sneaky                104128583\n",
       "0  TSM_Bjergsen                 92608310\n",
       "8    Doublelift                 71162230\n",
       "1        Yassuo                 54649565\n",
       "3       TFBlade                 40392663\n",
       "4          Rush                 19790153\n",
       "7    foggedftw2                  4909203"
      ]
     },
     "execution_count": 8,
     "metadata": {},
     "output_type": "execute_result"
    }
   ],
   "source": [
    "df_now"
   ]
  },
  {
   "cell_type": "code",
   "execution_count": 10,
   "metadata": {},
   "outputs": [
    {
     "data": {
      "text/html": [
       "<div>\n",
       "<style scoped>\n",
       "    .dataframe tbody tr th:only-of-type {\n",
       "        vertical-align: middle;\n",
       "    }\n",
       "\n",
       "    .dataframe tbody tr th {\n",
       "        vertical-align: top;\n",
       "    }\n",
       "\n",
       "    .dataframe thead th {\n",
       "        text-align: right;\n",
       "    }\n",
       "</style>\n",
       "<table border=\"1\" class=\"dataframe\">\n",
       "  <thead>\n",
       "    <tr style=\"text-align: right;\">\n",
       "      <th></th>\n",
       "      <th>Streamer</th>\n",
       "      <th>Número de Comentários</th>\n",
       "    </tr>\n",
       "  </thead>\n",
       "  <tbody>\n",
       "    <tr>\n",
       "      <th>6</th>\n",
       "      <td>loltyler1</td>\n",
       "      <td>316320</td>\n",
       "    </tr>\n",
       "    <tr>\n",
       "      <th>3</th>\n",
       "      <td>TFBlade</td>\n",
       "      <td>191852</td>\n",
       "    </tr>\n",
       "    <tr>\n",
       "      <th>1</th>\n",
       "      <td>Yassuo</td>\n",
       "      <td>116641</td>\n",
       "    </tr>\n",
       "    <tr>\n",
       "      <th>9</th>\n",
       "      <td>C9Sneaky</td>\n",
       "      <td>110698</td>\n",
       "    </tr>\n",
       "    <tr>\n",
       "      <th>4</th>\n",
       "      <td>Rush</td>\n",
       "      <td>60396</td>\n",
       "    </tr>\n",
       "    <tr>\n",
       "      <th>2</th>\n",
       "      <td>Trick2g</td>\n",
       "      <td>56967</td>\n",
       "    </tr>\n",
       "    <tr>\n",
       "      <th>5</th>\n",
       "      <td>Nightblue3</td>\n",
       "      <td>48674</td>\n",
       "    </tr>\n",
       "    <tr>\n",
       "      <th>7</th>\n",
       "      <td>foggedftw2</td>\n",
       "      <td>46361</td>\n",
       "    </tr>\n",
       "    <tr>\n",
       "      <th>8</th>\n",
       "      <td>Doublelift</td>\n",
       "      <td>32375</td>\n",
       "    </tr>\n",
       "    <tr>\n",
       "      <th>0</th>\n",
       "      <td>TSM_Bjergsen</td>\n",
       "      <td>5144</td>\n",
       "    </tr>\n",
       "  </tbody>\n",
       "</table>\n",
       "</div>"
      ],
      "text/plain": [
       "       Streamer  Número de Comentários\n",
       "6     loltyler1                 316320\n",
       "3       TFBlade                 191852\n",
       "1        Yassuo                 116641\n",
       "9      C9Sneaky                 110698\n",
       "4          Rush                  60396\n",
       "2       Trick2g                  56967\n",
       "5    Nightblue3                  48674\n",
       "7    foggedftw2                  46361\n",
       "8    Doublelift                  32375\n",
       "0  TSM_Bjergsen                   5144"
      ]
     },
     "execution_count": 10,
     "metadata": {},
     "output_type": "execute_result"
    }
   ],
   "source": [
    "df_com"
   ]
  },
  {
   "cell_type": "code",
   "execution_count": 6,
   "metadata": {},
   "outputs": [],
   "source": [
    "import pandas as pd\n",
    "file_view = 'Num_visualizações/Num_views_ch.csv'\n",
    "df_view = pd.read_csv(file_view,sep='\\t')"
   ]
  },
  {
   "cell_type": "code",
   "execution_count": 7,
   "metadata": {},
   "outputs": [
    {
     "data": {
      "text/html": [
       "<div>\n",
       "<style scoped>\n",
       "    .dataframe tbody tr th:only-of-type {\n",
       "        vertical-align: middle;\n",
       "    }\n",
       "\n",
       "    .dataframe tbody tr th {\n",
       "        vertical-align: top;\n",
       "    }\n",
       "\n",
       "    .dataframe thead th {\n",
       "        text-align: right;\n",
       "    }\n",
       "</style>\n",
       "<table border=\"1\" class=\"dataframe\">\n",
       "  <thead>\n",
       "    <tr style=\"text-align: right;\">\n",
       "      <th></th>\n",
       "      <th>Streamer</th>\n",
       "      <th>Número de Visualizações</th>\n",
       "    </tr>\n",
       "  </thead>\n",
       "  <tbody>\n",
       "    <tr>\n",
       "      <th>0</th>\n",
       "      <td>Nightblue3</td>\n",
       "      <td>218398725</td>\n",
       "    </tr>\n",
       "    <tr>\n",
       "      <th>1</th>\n",
       "      <td>Trick2g</td>\n",
       "      <td>144710525</td>\n",
       "    </tr>\n",
       "    <tr>\n",
       "      <th>2</th>\n",
       "      <td>loltyler1</td>\n",
       "      <td>134955884</td>\n",
       "    </tr>\n",
       "    <tr>\n",
       "      <th>3</th>\n",
       "      <td>C9Sneaky</td>\n",
       "      <td>104128583</td>\n",
       "    </tr>\n",
       "    <tr>\n",
       "      <th>4</th>\n",
       "      <td>TSM_Bjergsen</td>\n",
       "      <td>92608310</td>\n",
       "    </tr>\n",
       "    <tr>\n",
       "      <th>5</th>\n",
       "      <td>Doublelift</td>\n",
       "      <td>71162230</td>\n",
       "    </tr>\n",
       "    <tr>\n",
       "      <th>6</th>\n",
       "      <td>Yassuo</td>\n",
       "      <td>54649565</td>\n",
       "    </tr>\n",
       "    <tr>\n",
       "      <th>7</th>\n",
       "      <td>TFBlade</td>\n",
       "      <td>40392663</td>\n",
       "    </tr>\n",
       "    <tr>\n",
       "      <th>8</th>\n",
       "      <td>Rush</td>\n",
       "      <td>19790153</td>\n",
       "    </tr>\n",
       "    <tr>\n",
       "      <th>9</th>\n",
       "      <td>foggedftw2</td>\n",
       "      <td>4909203</td>\n",
       "    </tr>\n",
       "  </tbody>\n",
       "</table>\n",
       "</div>"
      ],
      "text/plain": [
       "       Streamer  Número de Visualizações\n",
       "0    Nightblue3                218398725\n",
       "1       Trick2g                144710525\n",
       "2     loltyler1                134955884\n",
       "3      C9Sneaky                104128583\n",
       "4  TSM_Bjergsen                 92608310\n",
       "5    Doublelift                 71162230\n",
       "6        Yassuo                 54649565\n",
       "7       TFBlade                 40392663\n",
       "8          Rush                 19790153\n",
       "9    foggedftw2                  4909203"
      ]
     },
     "execution_count": 7,
     "metadata": {},
     "output_type": "execute_result"
    }
   ],
   "source": [
    "df_view"
   ]
  },
  {
   "cell_type": "markdown",
   "metadata": {
    "editable": true
   },
   "source": [
    "## Pré-processamento"
   ]
  },
  {
   "cell_type": "markdown",
   "metadata": {
    "editable": true
   },
   "source": [
    "### 1 - Letras Minúsculas"
   ]
  },
  {
   "cell_type": "code",
   "execution_count": 8,
   "metadata": {
    "editable": true
   },
   "outputs": [],
   "source": [
    "# Função que converte o texto em letras minúsculas.\n",
    "def lower_case(text):\n",
    "    return text.lower()"
   ]
  },
  {
   "cell_type": "markdown",
   "metadata": {
    "editable": true
   },
   "source": [
    "### 2 - Removendo Acentuação"
   ]
  },
  {
   "cell_type": "code",
   "execution_count": 9,
   "metadata": {
    "editable": true
   },
   "outputs": [],
   "source": [
    "# Para realizar essa tarefa é necessário importar a biblioteca \"unicodedata\".\n",
    "import unicodedata\n",
    "# Função que remove a acentuação do texto, onde 'NFKD' é o codigo da forma normal para entrada de strings unicode.\n",
    "def remove_accentuation(text):\n",
    "    text = unicodedata.normalize('NFKD', str(text)).encode('ASCII','ignore')\n",
    "    return text.decode(\"utf-8\")"
   ]
  },
  {
   "cell_type": "markdown",
   "metadata": {
    "editable": true
   },
   "source": [
    "### 3 - Tokenização"
   ]
  },
  {
   "cell_type": "code",
   "execution_count": 10,
   "metadata": {
    "editable": true
   },
   "outputs": [],
   "source": [
    "# Função que faz a tokenização do texto.\n",
    "def tokenize(text):\n",
    "    return text.split(\" \")"
   ]
  },
  {
   "cell_type": "markdown",
   "metadata": {
    "editable": true
   },
   "source": [
    "### 4 - Remoção de Ruídos"
   ]
  },
  {
   "cell_type": "code",
   "execution_count": 11,
   "metadata": {
    "editable": true
   },
   "outputs": [],
   "source": [
    "import re\n",
    "# Função que remove pontuação e substitui alguns termos e caracteres do texto.\n",
    "def remove_noise(text):\n",
    "    # re.sub(replace_expression, replace_string, target)\n",
    "    new_text = re.sub(r\"\\.|,|;|!|\\?|\\\"|\\:|\\+|\\-|\\*|\\#|\\'|\\~\",'', text)\n",
    "    new_text = re.sub(r\"@\\S+\", \"MENTION\",new_text)\n",
    "    new_text = re.sub(r\"\\<3+\", \"LOVE\", new_text)\n",
    "    new_text = re.sub(r\"\\bf\\b\", \"FLASH\", new_text)\n",
    "    new_text = re.sub(r\"\\bpls\\b\", \"please\", new_text)\n",
    "    new_text = re.sub(r\"\\blvl\\b\", \"level\", new_text)\n",
    "    new_text = re.sub(r\"\\bvs\\b\", \"versus\", new_text)\n",
    "    new_text = re.sub(r\"[A-Z0-9]+|\\.|\\!|\\,\",'', new_text)\n",
    "    new_text = re.sub(r\"\\$|\\@|\\(|\\)|\\&|\\¨|\\_|\\=\",'', new_text)\n",
    "    new_text = re.sub(r\"\\\\|\\||\\/|\\>|\\<|\\[|\\]|\\{|\\}\",'', new_text)\n",
    "    new_text = re.sub(r\"\\n|\\t|\\r\",'', new_text)\n",
    "    new_text = re.sub(r\"\\`|\\´|\\^|\\%|\\;|\\:|\\§|\\ª|\\º|\\₢|\\°\",'', new_text)\n",
    "    \n",
    "    return new_text"
   ]
  },
  {
   "cell_type": "markdown",
   "metadata": {},
   "source": [
    "### 5 - Remoção de Números"
   ]
  },
  {
   "cell_type": "code",
   "execution_count": 12,
   "metadata": {
    "editable": true
   },
   "outputs": [],
   "source": [
    "# Função para remover números do texto\n",
    "def remove_numbers(text):\n",
    "    # re.sub(replace_expression, replace_string, target)\n",
    "    new_text = re.sub(r\"[0-9]+\", \"\", text)\n",
    "    return new_text"
   ]
  },
  {
   "cell_type": "markdown",
   "metadata": {},
   "source": [
    "### 6 - Remoção de Stopwords"
   ]
  },
  {
   "cell_type": "code",
   "execution_count": 13,
   "metadata": {
    "editable": true
   },
   "outputs": [],
   "source": [
    "import nltk\n",
    "from nltk.corpus import stopwords\n",
    "nltk_stop = list(stopwords.words('english'))# indica o conjunto de stopwords específico do idioma inglês.\n",
    "lol_slangs=['youre','r','ur','pog','pogu','trihard','kekw','lul','lmao','pogchamp','u',\n",
    "    'tks','brb','asap','gg','lulw','hello','hi','hey','yo','daddy','kappa','oh','tsm','urf','aram',\n",
    "    'bye','penta','pentakill','pepehands', 'zed','monkas','darius','monkas','biblethump','xd','yuumi',\n",
    "    'yet','omg','lozky','yoo','n','sup', 'broo','sis', 'youu','ya','yeah','dude','papu','poggers',\n",
    "    'minik','kappahd','kappaross','kappaclaus','kappapride','keppo','pogger','the','what','whats',\n",
    "    'shes','hes','its','wtf','omegalul','h','q','gl','g','ap','thats','akali','pepega','bye','pepelaugh',\n",
    "    'yo','re','tru','soo','yee','halo','im','sub','weirdchamp','v','tf','yes','sosnowy','cmonbruh','trynd','el','ye','ey',\n",
    "    'snacc','pogyou','forsencd','na','peepoarrive','bro','dude','re','dont','wont']\n",
    "nltk_stop = nltk_stop + lol_slangs\n",
    "# Função para remover stop words do texto.\n",
    "def remove_stop_words(text, stopWords):\n",
    "    for sw in stopWords:\n",
    "        text = re.sub(r'\\b%s\\b' % sw, \"\", text)\n",
    "    return text"
   ]
  },
  {
   "cell_type": "code",
   "execution_count": 14,
   "metadata": {},
   "outputs": [],
   "source": [
    "texto = 'oh u r pogchamp pogu pog feliz h q gl hap g ap thats pepega akali et pogyou bro ye ey re '\n",
    "nt = remove_stop_words(texto,nltk_stop)"
   ]
  },
  {
   "cell_type": "code",
   "execution_count": 15,
   "metadata": {},
   "outputs": [
    {
     "data": {
      "text/plain": [
       "'      feliz    hap      et      '"
      ]
     },
     "execution_count": 15,
     "metadata": {},
     "output_type": "execute_result"
    }
   ],
   "source": [
    "nt"
   ]
  },
  {
   "cell_type": "markdown",
   "metadata": {
    "editable": true
   },
   "source": [
    "### 7 - Redução de Comprimento"
   ]
  },
  {
   "cell_type": "code",
   "execution_count": 16,
   "metadata": {
    "editable": true
   },
   "outputs": [],
   "source": [
    "#Padrão de comprimento de palavras utilizado\n",
    "lengthening_pattern = \"a{3,}|b{3,}|c{3,}|d{3,}|e{3,}|f{3,}|g{3,}|h{3,}|i{3,}|j{3,}|\" \\\n",
    "                        \"k{3,}|l{3,}|m{3,}|n{3,}|o{3,}|p{3,}|q{3,}|r{3,}|s{3,}|t{3,}|\" \\\n",
    "                        \"u{3,}|v{3,}|x{3,}|w{3,}|y{3,}|z{3,}\"\n",
    "# Função usada para reduzir o comprimento de palavras no texto. Exemplo: 'looove' ----> 'love'.\n",
    "def lengthening_reduction(text, lenPattern):\n",
    "    lengthenings = re.findall(lenPattern, text)\n",
    "    if lengthenings:\n",
    "        lengthenings = lengthenings[0]\n",
    "        text = re.sub(lengthenings, lengthenings[0:1], text)\n",
    "    \n",
    "    return text"
   ]
  },
  {
   "cell_type": "markdown",
   "metadata": {
    "editable": true
   },
   "source": [
    "### 8 - Stemming"
   ]
  },
  {
   "cell_type": "code",
   "execution_count": 17,
   "metadata": {
    "editable": true
   },
   "outputs": [],
   "source": [
    "from nltk.stem.porter import *\n",
    "# Instanciando o Porter stemmer\n",
    "stemmer = PorterStemmer()\n",
    "\n",
    "# Funcão para Stemming\n",
    "def stemming(token, stemmer):\n",
    "    return stemmer.stem(token)"
   ]
  },
  {
   "cell_type": "code",
   "execution_count": 18,
   "metadata": {
    "editable": true
   },
   "outputs": [],
   "source": [
    "from nltk.stem.snowball import SnowballStemmer\n",
    "# Instanciando o Snowball stemmer\n",
    "stemmer_en = SnowballStemmer(\"english\")"
   ]
  },
  {
   "cell_type": "markdown",
   "metadata": {
    "editable": true
   },
   "source": [
    "### 9 - Lemmatizing"
   ]
  },
  {
   "cell_type": "code",
   "execution_count": 19,
   "metadata": {},
   "outputs": [],
   "source": [
    "import nltk\n",
    "from nltk.corpus import wordnet\n",
    "\n",
    "def get_wordnet_pos(tag):\n",
    "    if tag.startswith('J'):\n",
    "        return wordnet.ADJ\n",
    "    elif tag.startswith('V'):\n",
    "        return wordnet.VERB\n",
    "    elif tag.startswith('N'):\n",
    "        return wordnet.NOUN\n",
    "    elif tag.startswith('R'):\n",
    "        return wordnet.ADV\n",
    "    else:\n",
    "        return wordnet.NOUN"
   ]
  },
  {
   "cell_type": "code",
   "execution_count": 20,
   "metadata": {
    "editable": true
   },
   "outputs": [],
   "source": [
    "from nltk.stem import WordNetLemmatizer\n",
    "import nltk\n",
    "\n",
    "# The argument \"special_terms\" refers to terms that should not be parsed.\n",
    "def lemmatizing(text, special_terms=[]):\n",
    "    tokenPattern = r\"[A-Z0-9-']+|\\.|\\!|,\"\n",
    "    tokens = tokenize_refined(text, tokenPattern)\n",
    "    \n",
    "    tags = nltk.pos_tag(tokens)\n",
    "    \n",
    "    lemmatizer = WordNetLemmatizer()\n",
    "    lemmatized_tokens = []\n",
    "    for token, tag in tags:\n",
    "        if token in special_terms:\n",
    "            lemmatized_tokens.append(token)\n",
    "        else:\n",
    "            lemma = lemmatizer.lemmatize(token, pos=get_wordnet_pos(tag))\n",
    "            lemmatized_tokens.append(lemma)\n",
    "\n",
    "    lemmatized_tokens_string = \" \".join([token for token in lemmatized_tokens])\n",
    "    return lemmatized_tokens_string"
   ]
  },
  {
   "cell_type": "markdown",
   "metadata": {},
   "source": [
    "### 10 - Removendo Online Social Networking\n"
   ]
  },
  {
   "cell_type": "code",
   "execution_count": 21,
   "metadata": {},
   "outputs": [],
   "source": [
    "import re\n",
    "def removalOSN(text):\n",
    "    text = re.sub(\"#\\\\S+\", \"\", text)\n",
    "    text = re.sub(\"@\\\\S+\", \"\", text)\n",
    "    return text"
   ]
  },
  {
   "cell_type": "code",
   "execution_count": 22,
   "metadata": {},
   "outputs": [],
   "source": [
    "#Função para substituir expressões próprias do Twitch\n",
    "#def subTwitchslangs(text):\n",
    "#text = re.sub(\"\\bpog\\b\\\\S+\", \"surprised\", text)\n",
    "    #text = re.sub(\"\\bpogu\\b\\\\S+\", \"surprised\", text)\n",
    "    #text = re.sub(\"\\bpogger\\b\", \"surprised\", text)\n",
    "    #text = re.sub(\"\\bpogchamp\\b\", \"surprised\", text)\n",
    "    #text = re.sub(\"\\btrihard\\b\", \"excited\", text)\n",
    "    #text = re.sub(\"\\bkappa\\b\", \"sarcasm\", text)\n",
    "    #text = re.sub(\"\\bminik\\b\", \"sarcasm\", text)\n",
    "    #text = re.sub(\"\\bkappahd\\b\", \"sarcasm\", text)\n",
    "    #text = re.sub(\"\\bkappaross\\b\", \"sarcasm\", text)\n",
    "    #text = re.sub(\"\\bkappaclaus\\b\", \"sarcasm\", text)\n",
    "    #text = re.sub(\"\\bkappapride\\b\", \"sarcasm\", text)\n",
    "    #text = re.sub(\"\\bkeppo\\b\", \"sarcasm\", text)\n",
    "    #text = re.sub(\"\\bkappa\\b\", \"sarcasm\", text)\n",
    "    #text = re.sub(\"\\blul\\b\", \"sarcasm\", text)\n",
    "    #text = re.sub(\"\\bkekw\\b\", \"laugh\", text)\n",
    "    #text = re.sub(\"\\blmao\\b\", \"laugh\", text)\n",
    "    #text = re.sub(\"\\bpepehands\\b\", \"sad\", text)\n",
    "    #return text\n",
    "    "
   ]
  },
  {
   "cell_type": "code",
   "execution_count": 23,
   "metadata": {},
   "outputs": [],
   "source": [
    "#Função para substituir OSN\n",
    "def replacementOSN(text):\n",
    "    text = re.sub(\"#\\\\S+\", \"HASHTAG\", text)\n",
    "    \n",
    "    text = re.sub(\"@\\\\S+\", \"MENTION\", text)\n",
    "    \n",
    "    return text"
   ]
  },
  {
   "cell_type": "code",
   "execution_count": 24,
   "metadata": {
    "editable": true
   },
   "outputs": [],
   "source": [
    "#função para interpretação de hashtags\n",
    "def interpretationHashtags(text):\n",
    "    hashtags = re.findall(\"#\\\\S+\", text)\n",
    "    for hashtag in hashtags:\n",
    "        words = re.findall('[a-zA-Z][^A-Z]*', hashtag)\n",
    "        wordsAsText = \" \".join([word for word in words])\n",
    "        text = re.sub(hashtag, wordsAsText, text)\n",
    "    \n",
    "    return text"
   ]
  },
  {
   "cell_type": "code",
   "execution_count": 25,
   "metadata": {
    "editable": true
   },
   "outputs": [],
   "source": [
    "#função para remover urls\n",
    "def removeURL(text):\n",
    "    text = re.sub(\"http\\\\S+\\\\s*\", \"\", text)\n",
    "    \n",
    "    return text"
   ]
  },
  {
   "cell_type": "markdown",
   "metadata": {
    "editable": true
   },
   "source": [
    "## Transformação dos dados\n",
    "\n",
    "Nesta etapa serão chamadas as funções criados anteriormente para tratar os dados."
   ]
  },
  {
   "cell_type": "code",
   "execution_count": 46,
   "metadata": {
    "editable": true
   },
   "outputs": [],
   "source": [
    "#Caminhos para os arquivos\n",
    "\n",
    "#filename = \"Dataset/C9Sneaky_comments.csv\"\n",
    "#filename = \"Dataset/DoubleLift_comments.csv\"\n",
    "#filename = \"Dataset/DoubleLift_comments.csv\"\n",
    "#filename = \"Dataset/lolTyler1_comments.csv\"\n",
    "#filename = \"Dataset/Nightblue3_comments.csv\"\n",
    "#filename = \"Dataset/Nightblue3_comments.csv\"\n",
    "#filename = \"Dataset/TFBlade_comments.csv\"\n",
    "#filename = \"Dataset/Trick2g_comments.csv\"\n",
    "#filename = \"Dataset/TSM_Bjergsen_comments.csv\"\n",
    "#filename = \"Dataset/Yassuo_comments.csv\"\n",
    "filename = \"Dataset/TwitchDataset.csv\" \n",
    "dataset = read_data(filename, sep=\"\\t\")"
   ]
  },
  {
   "cell_type": "code",
   "execution_count": 47,
   "metadata": {
    "editable": true
   },
   "outputs": [
    {
     "name": "stdout",
     "output_type": "stream",
     "text": [
      "0    peepoArrive Hello\n",
      "1          peepoArrive\n",
      "2                  Pog\n",
      "3               PogYou\n",
      "4     What’s up fucker\n",
      "Name: comment, dtype: object\n"
     ]
    }
   ],
   "source": [
    "print(dataset.comment.head(5))"
   ]
  },
  {
   "cell_type": "markdown",
   "metadata": {},
   "source": [
    "### Quantidade de comentários brutos"
   ]
  },
  {
   "cell_type": "code",
   "execution_count": 48,
   "metadata": {},
   "outputs": [
    {
     "name": "stdout",
     "output_type": "stream",
     "text": [
      "985766\n"
     ]
    }
   ],
   "source": [
    "print(len(dataset))"
   ]
  },
  {
   "cell_type": "code",
   "execution_count": 49,
   "metadata": {
    "editable": true
   },
   "outputs": [],
   "source": [
    "#Função que faz todo o preprocessamento, aplicando as funções criadas acima.\n",
    "def preprocessing(dataframe, fieldName, config):   \n",
    "    \n",
    "    if config[\"remove_numbers\"] == True:\n",
    "        dataframe[fieldName] = dataframe[fieldName].apply(remove_numbers)\n",
    "        \n",
    "    if config[\"lowercase\"] == True:\n",
    "        dataframe[fieldName] = dataframe[fieldName].apply(lower_case)\n",
    "    \n",
    "    if config[\"replace_hashtagsMentions\"] == True:\n",
    "        dataframe[fieldName] = dataframe[fieldName].apply(replacementOSN)\n",
    "        \n",
    "    if config[\"remove_accentuation\"] == True:\n",
    "        dataframe[fieldName] = dataframe[fieldName].apply(remove_accentuation)\n",
    "    \n",
    "    if config[\"remove_stopwords\"] == True:\n",
    "        dataframe[fieldName] = dataframe[fieldName].apply(remove_stop_words, stopWords=nltk_stop)\n",
    "    \n",
    "    if config[\"reduce_lengthening\"] == True:\n",
    "        dataframe[fieldName] = dataframe[fieldName].apply(lengthening_reduction, lenPattern=lengthening_pattern)\n",
    "    \n",
    "    if config[\"stemming\"] == True:\n",
    "        dataframe[fieldName] = dataframe[fieldName].apply(stemming, stemmer=stemmer)\n",
    "    \n",
    "    if config[\"lemmatizing\"] == True:\n",
    "        dataframe[fieldName] = dataframe[fieldName].apply(lemmatizing)\n",
    "    \n",
    "    if config[\"remove_hashtagsMentions\"] == True:\n",
    "        dataframe[fieldName] = dataframe[fieldName].apply(removalOSN)\n",
    "          \n",
    "    if config[\"interpretHashtags\"] == True:\n",
    "        dataframe[fieldName] = dataframe[fieldName].apply(interpretationHashtags)\n",
    "    \n",
    "    if config[\"remove_urls\"] == True:\n",
    "        dataframe[fieldName] = dataframe[fieldName].apply(removeURL)\n",
    "        \n",
    "    if config[\"remove_noise\"] == True:\n",
    "        dataframe[fieldName] = dataframe[fieldName].apply(remove_noise)\n",
    "    \n",
    "    return dataframe"
   ]
  },
  {
   "cell_type": "code",
   "execution_count": 50,
   "metadata": {
    "editable": true
   },
   "outputs": [],
   "source": [
    "config = {\n",
    "            \"remove_numbers\": True, \\\n",
    "            \"lowercase\": True, \\\n",
    "            \"remove_accentuation\": True, \\\n",
    "            \"remove_stopwords\": True, \\\n",
    "            \"reduce_lengthening\": True, \\\n",
    "            \"stemming\": False, \\\n",
    "            \"lemmatizing\": False, \\\n",
    "            \"remove_hashtagsMentions\": True, \\\n",
    "            \"replace_hashtagsMentions\": True, \\\n",
    "            \"interpretHashtags\": True, \\\n",
    "            \"remove_urls\": True, \\\n",
    "            \"remove_noise\": True}"
   ]
  },
  {
   "cell_type": "code",
   "execution_count": 51,
   "metadata": {
    "editable": true
   },
   "outputs": [
    {
     "data": {
      "text/plain": [
       "0                                         \n",
       "1                                         \n",
       "2                                         \n",
       "3                                         \n",
       "4                                   fucker\n",
       "5         sneakyweeb sneakyweeb sneakyweeb\n",
       "6                                     buff\n",
       "7                                         \n",
       "8                              beefy man  \n",
       "9                                   sneaky\n",
       "10                                        \n",
       "11                 mas hardcore de tu zona\n",
       "12                          playing  split\n",
       "13                                  sneaky\n",
       "14                          snacky stream \n",
       "16                                     dad\n",
       "17                lets    start   lcs team\n",
       "18                                        \n",
       "19                                        \n",
       "20     hey thereeeee hoowww youuuu doinnnn\n",
       "Name: comment, dtype: object"
      ]
     },
     "execution_count": 51,
     "metadata": {},
     "output_type": "execute_result"
    }
   ],
   "source": [
    "dataset.dropna(inplace = True)# remove linhas com valores NAN\n",
    "dataset.drop_duplicates(inplace = True)# remove elementos duplicados\n",
    "dataset_pproc = preprocessing(dataset, fieldName=\"comment\", config=config)\n",
    "dataset_pproc.comment.head(20)"
   ]
  },
  {
   "cell_type": "markdown",
   "metadata": {},
   "source": [
    "### Quantidade de comentários após preprocessamento"
   ]
  },
  {
   "cell_type": "code",
   "execution_count": 52,
   "metadata": {},
   "outputs": [
    {
     "name": "stdout",
     "output_type": "stream",
     "text": [
      "506151\n"
     ]
    }
   ],
   "source": [
    "print(len(dataset_pproc))"
   ]
  },
  {
   "cell_type": "markdown",
   "metadata": {},
   "source": [
    "### Salvando os comentários preprocessados em um arquivo .csv"
   ]
  },
  {
   "cell_type": "code",
   "execution_count": 53,
   "metadata": {},
   "outputs": [],
   "source": [
    "#df = pd.DataFrame(dataset_pproc,columns=['comment'])\n",
    "#df.to_csv (r'PreprocessDataset/TwitchDataset_pproc_Dataset.csv', index = None, header=True,sep='\\t')"
   ]
  },
  {
   "cell_type": "markdown",
   "metadata": {
    "editable": true
   },
   "source": [
    "# Visualização em WordCloud"
   ]
  },
  {
   "cell_type": "code",
   "execution_count": 54,
   "metadata": {
    "editable": true,
    "scrolled": true
   },
   "outputs": [
    {
     "data": {
      "image/png": "[encoded data removed]",
      "text/plain": [
       "<Figure size 432x288 with 1 Axes>"
      ]
     },
     "metadata": {
      "needs_background": "light"
     },
     "output_type": "display_data"
    }
   ],
   "source": [
    "%matplotlib inline\n",
    "from os import path\n",
    "from wordcloud import WordCloud,STOPWORDS, ImageColorGenerator\n",
    "import matplotlib.pyplot as plt\n",
    "\n",
    "# Wordcloud para comentários\n",
    "text = ' '.join(dataset_pproc.comment.values)# retira uma lista com os valores contidos no dataset\n",
    "words = text.split()\n",
    "text = (\" \".join(sorted(set(words),key=words.index)))#organiza e seleciona apenas palavras unicas da lista\n",
    "text = re.sub(r'[^A-Za-z0-9 ]+','', text)# substitui possíveis ruídos no texto\n",
    "\n",
    "#print(text)\n",
    "# Gerando a imagem wordcloud\n",
    "wordcloud = WordCloud().generate(text)\n",
    "wordcloud = WordCloud(max_font_size=55,background_color=\"white\", max_words=50).generate(text)\n",
    "plt.figure()\n",
    "plt.imshow(wordcloud, interpolation=\"bilinear\")\n",
    "plt.axis(\"off\")\n",
    "plt.show()"
   ]
  },
  {
   "cell_type": "markdown",
   "metadata": {},
   "source": [
    "# Modelagem de Tópicos"
   ]
  },
  {
   "cell_type": "code",
   "execution_count": 234,
   "metadata": {
    "editable": true
   },
   "outputs": [],
   "source": [
    "from sklearn.feature_extraction.text import CountVectorizer\n",
    "from sklearn.feature_extraction.text import TfidfVectorizer\n",
    "\n",
    "# Função para vetorização do dataset\n",
    "def transformData(data, fieldName, my_tokenizer, weight):\n",
    "    \n",
    "    if weight == \"TP\":\n",
    "        vectorizer = CountVectorizer(tokenizer=my_tokenizer, binary=True)\n",
    "        X = vectorizer.fit_transform(data[fieldName])\n",
    "    \n",
    "    elif weight == \"TF\":\n",
    "        vectorizer = CountVectorizer(tokenizer=my_tokenizer)\n",
    "        X = vectorizer.fit_transform(data[fieldName])\n",
    "        \n",
    "    elif weight == \"TFIDF\":\n",
    "        vectorizer = TfidfVectorizer(tokenizer=my_tokenizer)\n",
    "        X = vectorizer.fit_transform(data[fieldName])\n",
    "\n",
    "    return (vectorizer, X)"
   ]
  },
  {
   "cell_type": "code",
   "execution_count": 235,
   "metadata": {
    "editable": true
   },
   "outputs": [],
   "source": [
    "# Chamando função para vetorizar o dataset\n",
    "vectorizer, X = transformData(dataset_pproc, fieldName=\"comment\", my_tokenizer=tokenize, weight=\"TFIDF\")"
   ]
  },
  {
   "cell_type": "code",
   "execution_count": 236,
   "metadata": {},
   "outputs": [],
   "source": [
    "#print(vectorizer.get_feature_names())"
   ]
  },
  {
   "cell_type": "code",
   "execution_count": 237,
   "metadata": {
    "editable": true
   },
   "outputs": [],
   "source": [
    "#variável contento as caracteristicas extraídas do dataset\n",
    "tfidf_feature_names= vectorizer.get_feature_names()"
   ]
  },
  {
   "cell_type": "code",
   "execution_count": 238,
   "metadata": {},
   "outputs": [
    {
     "name": "stdout",
     "output_type": "stream",
     "text": [
      "-------------------------------------------------------\n",
      "Modelo LDA\n",
      "-------------------------------------------------------\n",
      "Número de Tópicos = 5\n",
      "Número de Palavras = 5\n",
      "-------------------------------------------------------\n",
      "Tópico 0:  man like dont one stream\n",
      "Tópico 1:  go get good lol please\n",
      "Tópico 2:  moe game time icecold points\n",
      "Tópico 3:  subscribed chat trklegend nice twitch\n",
      "Tópico 4:  better shit win tyler faker\n",
      "-------------------------------------------------------\n",
      "Modelo LSA\n",
      "-------------------------------------------------------\n",
      "Número de Tópicos = 5\n",
      "Número de Palavras = 5\n",
      "-------------------------------------------------------\n",
      "Tópico 0:  play game chat get like\n",
      "Tópico 1: lol play game head go like\n",
      "Tópico 2: lol subscribed twitch prime months trklegend\n",
      "Tópico 3: play subscribed twitch prime game months\n",
      "Tópico 4: chat head shared rewards others good\n",
      "-------------------------------------------------------\n"
     ]
    }
   ],
   "source": [
    "from sklearn.decomposition import NMF, LatentDirichletAllocation, TruncatedSVD\n",
    "\n",
    "#Função para mostrar os principais tópicos\n",
    "def display_topics(model, feature_names, top_words):\n",
    "    for topic_idx, topic in enumerate(model.components_):\n",
    "        print (\"Tópico %d: \" % (topic_idx) +\n",
    "                \" \".join([feature_names[i]\n",
    "                        for i in topic.argsort()[:-top_words -2:-1]]))\n",
    "\n",
    "topics = 5\n",
    "top_words = 5\n",
    "# Exexutando os modelos LDA e LSA \n",
    "lda = LatentDirichletAllocation(n_components=topics, max_iter=5, learning_method='online', learning_offset=50.,random_state=0).fit(X)\n",
    "lsa = TruncatedSVD(n_components=topics, algorithm='randomized', n_iter=5, random_state=1).fit(X)\n",
    "\n",
    "#Mostrando os resultados para cada modelo\n",
    "print('-------------------------------------------------------')\n",
    "print('Modelo LDA')\n",
    "print('-------------------------------------------------------')\n",
    "print('Número de Tópicos = 5')\n",
    "print('Número de Palavras = 5')\n",
    "print('-------------------------------------------------------')\n",
    "display_topics(lda, tfidf_feature_names, top_words)\n",
    "print('-------------------------------------------------------')\n",
    "print('Modelo LSA')\n",
    "print('-------------------------------------------------------')\n",
    "print('Número de Tópicos = 5')\n",
    "print('Número de Palavras = 5')\n",
    "print('-------------------------------------------------------')\n",
    "display_topics(lsa, tfidf_feature_names, top_words)\n",
    "print('-------------------------------------------------------')"
   ]
  },
  {
   "cell_type": "markdown",
   "metadata": {},
   "source": [
    "# Análise de Sentimentos"
   ]
  },
  {
   "cell_type": "code",
   "execution_count": 239,
   "metadata": {},
   "outputs": [],
   "source": [
    "from polyglot.text import Text\n",
    "import matplotlib.pyplot as plt\n",
    "\n",
    "\n",
    "#print(\"{:<16}{}\".format(\"Word\", \"Polarity\")+\"\\n\"+\"-\"*30)\n",
    "\n",
    "def sent_analize_pos(text):\n",
    "    Positivos = []\n",
    "    for w in text.words:\n",
    "        #print(w.polarity)\n",
    "        if (w.polarity == 1):\n",
    "            Positivos.append(\"{:<16}{:>2}\".format(w, w.polarity))\n",
    "    return Positivos\n",
    "\n",
    "def sent_analize_neg(text):\n",
    "    Negativos = []\n",
    "    for w in text.words:\n",
    "        #print(w.polarity)\n",
    "        if (w.polarity == -1):\n",
    "            Negativos.append(\"{:<16}{:>2}\".format(w, w.polarity))\n",
    "    return Negativos\n",
    "\n",
    "def sent_analize_neutros(text):\n",
    "    Neutros = []\n",
    "    for w in text.words:\n",
    "        #print(w.polarity)\n",
    "        if (w.polarity == 0):\n",
    "            Neutros.append(\"{:<16}{:>2}\".format(w, w.polarity))\n",
    "    return Neutros\n",
    "text = Text(' '.join(dataset_pproc.comment.values))\n",
    "Positivos = sent_analize_pos(text)\n",
    "Negativos = sent_analize_neg(text)\n",
    "Neutros = sent_analize_neutros(text)\n",
    "Num_pos= len(Positivos)\n",
    "Num_neg= len(Negativos) \n",
    "Num_neutros= len(Neutros)"
   ]
  },
  {
   "cell_type": "code",
   "execution_count": 240,
   "metadata": {},
   "outputs": [
    {
     "data": {
      "image/png": "[encoded data removed]",
      "text/plain": [
       "<Figure size 432x288 with 1 Axes>"
      ]
     },
     "metadata": {
      "needs_background": "light"
     },
     "output_type": "display_data"
    },
    {
     "name": "stdout",
     "output_type": "stream",
     "text": [
      " Positivos: 90607\n",
      " Negativos: 104366 \n",
      " Neutros: 1380049\n"
     ]
    }
   ],
   "source": [
    "# Pie chart, where the slices will be ordered and plotted counter-clockwise:\n",
    "labels = ['Positivos', 'Negativos', 'Neutros']\n",
    "sizes = [Num_pos, Num_neg, Num_neutros]\n",
    "plt.rcParams.update({'font.size':15})\n",
    "plt.bar(labels,sizes,color='red')\n",
    "plt.xticks(labels)\n",
    "plt.ylabel('Quantidade de Comentários')\n",
    "plt.xlabel('Polaridades')\n",
    "#plt.title('Análise de Sentimentos dos Comentários')\n",
    "\n",
    "plt.show()\n",
    "\n",
    "\n",
    "print(\" Positivos: %d\\n\" % Num_pos,\n",
    "      \"Negativos: %d \\n\" % Num_neg,\n",
    "      \"Neutros: %d\" % Num_neutros)"
   ]
  },
  {
   "cell_type": "markdown",
   "metadata": {},
   "source": [
    "# Detecção de HateSpeech"
   ]
  },
  {
   "cell_type": "code",
   "execution_count": 241,
   "metadata": {},
   "outputs": [],
   "source": [
    "import warnings\n",
    "warnings.filterwarnings(action='ignore')\n",
    "import pandas as pd\n",
    "from hatesonar import Sonar\n",
    "\n",
    "# Função que utiliza o hatesonar para classificar os comentãrios linha por linha em hate speech, offensive language e neither\n",
    "# A função salva os resultados em um arquivo .csv\n",
    "def detect_hs(text):\n",
    "    warnings.filterwarnings(action='ignore')\n",
    "    sonar = Sonar()\n",
    "    with open('HS_detection/TwitchDataset_HS_detect_saved.csv','w',encoding='utf8') as f:\n",
    "        titles = f\"comment\\tTop_Class\\tHateSpeech_Confidence\\tOfensive_Language_Confidence\\tNeither_Confidence\\n\"\n",
    "        f.write(titles)\n",
    "        temp_list = []\n",
    "        for dado in text.itertuples():\n",
    "            dado = dado.comment\n",
    "            dit = sonar.ping(dado)# método que faz a classificação: o resultado é um dicionário contendo os resultad\n",
    "            texto = dit['text']\n",
    "            classif = dit['top_class']\n",
    "            classes = dit['classes']\n",
    "            hs_confidence = classes[0]['confidence']\n",
    "            #hs_class = classes[0]['class_name']\n",
    "            ol_confidence = classes[1]['confidence']\n",
    "            #ol_class = classes[1]['class_name']\n",
    "            neither_confidence = classes[2]['confidence']\n",
    "            #neither_class = classes[2]['class_name']\n",
    "            temp_list.append(texto + classif + str(hs_confidence)  + str(ol_confidence) + str(neither_confidence))\n",
    "\n",
    "            f.write(f\"{texto}\\t{classif}\\t{hs_confidence}\\t{ol_confidence}\\t{neither_confidence}\\n\")\n",
    "    f.close()"
   ]
  },
  {
   "cell_type": "code",
   "execution_count": 242,
   "metadata": {},
   "outputs": [],
   "source": [
    "# Executando a função de detecção de hate speech\n",
    "file = 'PreprocessDataset/TwitchDataset_pproc_Dataset.csv'# caminho para o arquivo preprocessado desejado\n",
    "df = pd.read_csv(file,sep='\\t')\n",
    "df=df.dropna(subset=['comment'])\n",
    "df =detect_hs(df)"
   ]
  },
  {
   "cell_type": "markdown",
   "metadata": {},
   "source": [
    "### Modelagem de Tópicos dos Hate Speech, Offensive Language"
   ]
  },
  {
   "cell_type": "code",
   "execution_count": 285,
   "metadata": {},
   "outputs": [],
   "source": [
    "import pandas as pd\n",
    "\n",
    "def topic_mod_hs(text):\n",
    "    hate_speech = []\n",
    "    of_lang = []\n",
    "    for dado in text.itertuples():\n",
    "        dados = dado.Top_Class\n",
    "        commt= dado.comment\n",
    "        if (dados == 'hate_speech'):\n",
    "            hate_speech.append(commt)\n",
    "            \n",
    "        elif(dados == 'offensive_language'):\n",
    "            of_lang.append(commt)\n",
    "\n",
    "    return hate_speech, of_lang"
   ]
  },
  {
   "cell_type": "code",
   "execution_count": 286,
   "metadata": {},
   "outputs": [],
   "source": [
    "f = 'HS_detection/TwitchDataset_HS_detect_saved.csv'\n",
    "mt_df = pd.read_csv(f,sep='\\t')\n",
    "tm_hs,tm_ol = topic_mod_hs(mt_df)"
   ]
  },
  {
   "cell_type": "code",
   "execution_count": 287,
   "metadata": {},
   "outputs": [],
   "source": [
    "d_hs = {'Hate Speech':tm_hs}\n",
    "d_ol = {'Offensive_Language':tm_ol}\n",
    "df_hs = pd.DataFrame(d_hs,columns=['Hate Speech'])\n",
    "df_ol = pd.DataFrame(d_ol,columns=['Offensive_Language'])"
   ]
  },
  {
   "cell_type": "code",
   "execution_count": 288,
   "metadata": {},
   "outputs": [],
   "source": [
    "vect, y = transformData(df_hs, fieldName=\"Hate Speech\", my_tokenizer=tokenize, weight=\"TFIDF\")\n",
    "vect2, Z = transformData(df_ol, fieldName=\"Offensive_Language\", my_tokenizer=tokenize, weight=\"TFIDF\")"
   ]
  },
  {
   "cell_type": "code",
   "execution_count": 289,
   "metadata": {},
   "outputs": [],
   "source": [
    "tf_idf_hs= vect.get_feature_names()\n",
    "tf_idf_ol = vect2.get_feature_names()"
   ]
  },
  {
   "cell_type": "code",
   "execution_count": 290,
   "metadata": {},
   "outputs": [
    {
     "name": "stdout",
     "output_type": "stream",
     "text": [
      "-------------------------------------------------------\n",
      "Hate Speech\n",
      "-------------------------------------------------------\n",
      "-------------------------------------------------------\n",
      "Modelo LDA\n",
      "-------------------------------------------------------\n",
      "Número de Tópicos = 5\n",
      "Número de Palavras = 5\n",
      "-------------------------------------------------------\n",
      "Tópico 0:  kill white racist hate people\n",
      "Tópico 1: fat fuck ass  ugly see\n",
      "Tópico 2: kill  dont moe em widepeepohappy\n",
      "Tópico 3: gay  streamer best gaypride tfblade\n",
      "Tópico 4: jew nexus trailer watch annie retards\n",
      "-------------------------------------------------------\n",
      "Modelo LSA\n",
      "-------------------------------------------------------\n",
      "Número de Tópicos = 5\n",
      "Número de Palavras = 5\n",
      "-------------------------------------------------------\n",
      "Tópico 0:  kill gay hate white racist\n",
      "Tópico 1: gay streamer best tfblade gaypride lol\n",
      "Tópico 2: kill gay head double widepeepohappy em\n",
      "Tópico 3: racist chat kill streamer rush gay\n",
      "Tópico 4: white racist kill people sad gay\n",
      "-------------------------------------------------------\n",
      "-------------------------------------------------------\n",
      "Offensive Language\n",
      "-------------------------------------------------------\n",
      "Modelo LDA\n",
      "-------------------------------------------------------\n",
      "Número de Tópicos = 5\n",
      "Número de Palavras = 5\n",
      "-------------------------------------------------------\n",
      "Tópico 0:  hard sex lol retarded fucking\n",
      "Tópico 1:  shit stop fucking fuck real\n",
      "Tópico 2:  fuck pussy damn shit cock\n",
      "Tópico 3: man  sure hell da tyler\n",
      "Tópico 4:  stfu bitch yo fuck league\n",
      "-------------------------------------------------------\n",
      "Modelo LSA\n",
      "-------------------------------------------------------\n",
      "Número de Tópicos = 5\n",
      "Número de Palavras = 5\n",
      "-------------------------------------------------------\n",
      "Tópico 0:  fuck shit man hard fucking\n",
      "Tópico 1: man pv big come squadw pvman\n",
      "Tópico 2: fuck man league alpha shut cancer\n",
      "Tópico 3: shit fuck holy man dog league\n",
      "Tópico 4: sure kapp shit fuck holy pretty\n",
      "-------------------------------------------------------\n"
     ]
    }
   ],
   "source": [
    "from sklearn.decomposition import NMF, LatentDirichletAllocation, TruncatedSVD\n",
    "\n",
    "#Função para mostrar os principais tópicos\n",
    "def display_topics(model, feature_names, top_words):\n",
    "    for topic_idx, topic in enumerate(model.components_):\n",
    "        print (\"Tópico %d: \" % (topic_idx) +\n",
    "                \" \".join([feature_names[i]\n",
    "                        for i in topic.argsort()[:-top_words -2:-1]]))\n",
    "\n",
    "topics = 5\n",
    "top_words = 5\n",
    "# Exexutando os modelos LDA e LSA \n",
    "lda = LatentDirichletAllocation(n_components=topics, max_iter=5, learning_method='online', learning_offset=50.,random_state=0).fit(y)\n",
    "lsa = TruncatedSVD(n_components=topics, algorithm='randomized', n_iter=5, random_state=1).fit(y)\n",
    "\n",
    "#Mostrando os resultados para cada modelo\n",
    "print('-------------------------------------------------------')\n",
    "print('Hate Speech')\n",
    "print('-------------------------------------------------------')\n",
    "print('-------------------------------------------------------')\n",
    "print('Modelo LDA')\n",
    "print('-------------------------------------------------------')\n",
    "print('Número de Tópicos = 5')\n",
    "print('Número de Palavras = 5')\n",
    "print('-------------------------------------------------------')\n",
    "display_topics(lda, tf_idf_hs, top_words)\n",
    "print('-------------------------------------------------------')\n",
    "print('Modelo LSA')\n",
    "print('-------------------------------------------------------')\n",
    "print('Número de Tópicos = 5')\n",
    "print('Número de Palavras = 5')\n",
    "print('-------------------------------------------------------')\n",
    "display_topics(lsa, tf_idf_hs, top_words)\n",
    "print('-------------------------------------------------------')\n",
    "from sklearn.decomposition import NMF, LatentDirichletAllocation, TruncatedSVD\n",
    "\n",
    "#Função para mostrar os principais tópicos\n",
    "def display_topics2(model, feature_names, top_words):\n",
    "    for topic_idx, topic in enumerate(model.components_):\n",
    "        print (\"Tópico %d: \" % (topic_idx) +\n",
    "                \" \".join([feature_names[i]\n",
    "                        for i in topic.argsort()[:-top_words -2:-1]]))\n",
    "\n",
    "topics = 5\n",
    "top_words = 5\n",
    "# Exexutando os modelos LDA e LSA \n",
    "lda = LatentDirichletAllocation(n_components=topics, max_iter=5, learning_method='online', learning_offset=50.,random_state=0).fit(z)\n",
    "lsa = TruncatedSVD(n_components=topics, algorithm='randomized', n_iter=5, random_state=1).fit(z)\n",
    "print('-------------------------------------------------------')\n",
    "print('Offensive Language')\n",
    "print('-------------------------------------------------------')\n",
    "print('Modelo LDA')\n",
    "print('-------------------------------------------------------')\n",
    "print('Número de Tópicos = 5')\n",
    "print('Número de Palavras = 5')\n",
    "print('-------------------------------------------------------')\n",
    "display_topics2(lda, tf_idf_ol, top_words)\n",
    "print('-------------------------------------------------------')\n",
    "print('Modelo LSA')\n",
    "print('-------------------------------------------------------')\n",
    "print('Número de Tópicos = 5')\n",
    "print('Número de Palavras = 5')\n",
    "print('-------------------------------------------------------')\n",
    "display_topics2(lsa, tf_idf_ol, top_words)\n",
    "print('-------------------------------------------------------')"
   ]
  },
  {
   "cell_type": "markdown",
   "metadata": {},
   "source": [
    "### Visualização dos Resultados da Detecção de Hate Speech por Streamer"
   ]
  },
  {
   "cell_type": "code",
   "execution_count": 1,
   "metadata": {},
   "outputs": [],
   "source": [
    "%matplotlib inline\n",
    "import pandas as pd\n",
    "import matplotlib.pyplot as plt\n",
    "\n",
    "# Lista com os caminhos para os arquivos de detecção de hate speech de cada streamer\n",
    "file = ['HS_detection/C9sneaky_HS_detect_saved.csv','HS_detection/DoubleLift_HS_detect_saved.csv','HS_detection/foggedftw2_HS_detect_saved.csv',\n",
    "        'HS_detection/lolTyler1_HS_detect_saved.csv','HS_detection/Nightblue3_HS_detect_saved.csv','HS_detection/Rush_HS_detect_saved.csv',\n",
    "        'HS_detection/TFBlade_HS_detect_saved.csv','HS_detection/Trick2g_HS_detect_saved.csv','HS_detection/TSM_Bjergsen_HS_detect_saved.csv',\n",
    "        'HS_detection/Yassuo_HS_detect_saved.csv','HS_detection/TwitchDataset_HS_detect_saved.csv']\n",
    "\n",
    "\n",
    "\n",
    "\n",
    "# Função para contagem das classificações por streamer e de todo o dataset\n",
    "\n",
    "def hs_for_stmrs(text):\n",
    "    hate_speech = []\n",
    "    of_lang = []\n",
    "    neither= []\n",
    "    total = 0\n",
    "    for dado in text.itertuples():\n",
    "        dados = dado.Top_Class\n",
    "        commt= dado.comment\n",
    "        if (dados == 'hate_speech'):\n",
    "            hate_speech.append(dados+':'+commt)\n",
    "            num_hs = len(hate_speech)\n",
    "           \n",
    "        elif(dados == 'offensive_language'):\n",
    "            of_lang.append(dados+':'+commt)\n",
    "            num_of_lg = len(of_lang)\n",
    "\n",
    "        elif(dados == 'neither'):\n",
    "            neither.append(dados+':'+commt)\n",
    "            num_nt = len(neither)\n",
    "           \n",
    "    total = (num_hs+num_of_lg+num_nt)\n",
    "    return num_hs,num_of_lg,num_nt,total\n",
    "\n",
    "# Iteração sobre a lista de caminhos de arquivos\n",
    "for i in file:\n",
    "    if (i== 'HS_detection/C9sneaky_HS_detect_saved.csv'):\n",
    "        strm1  = 'C9sneaky'\n",
    "        df2= pd.read_csv(i,sep='\\t')\n",
    "        hs1,ol1,nt1,tot1 = hs_for_stmrs(df2)\n",
    "    \n",
    "    elif (i== 'HS_detection/DoubleLift_HS_detect_saved.csv'):\n",
    "        strm2  = 'DoubleLift'\n",
    "        df2 = pd.read_csv(i,sep='\\t')\n",
    "        hs2,ol2,nt2,tot2 = hs_for_stmrs(df2)\n",
    "\n",
    "    elif (i== 'HS_detection/foggedftw2_HS_detect_saved.csv'):\n",
    "        strm3  = 'foggedftw2'\n",
    "        df2 = pd.read_csv(i,sep='\\t')\n",
    "        hs3,ol3,nt3,tot3 = hs_for_stmrs(df2)\n",
    "\n",
    "    elif (i== 'HS_detection/lolTyler1_HS_detect_saved.csv'):\n",
    "        strm4  = 'lolTyler1'\n",
    "        df2 = pd.read_csv(i,sep='\\t')\n",
    "        hs4,ol4,nt4,tot4 = hs_for_stmrs(df2)\n",
    "\n",
    "    elif (i== 'HS_detection/Nightblue3_HS_detect_saved.csv'):\n",
    "        strm5  = 'Nightblue3'\n",
    "        df2 = pd.read_csv(i,sep='\\t')\n",
    "        hs5,ol5,nt5,tot5 = hs_for_stmrs(df2)\n",
    "\n",
    "    elif (i== 'HS_detection/Rush_HS_detect_saved.csv'):\n",
    "        strm6  = 'Rush'\n",
    "        df2 = pd.read_csv(i,sep='\\t')\n",
    "        hs6,ol6,nt6,tot6 = hs_for_stmrs(df2)\n",
    "\n",
    "    elif (i== 'HS_detection/TFBlade_HS_detect_saved.csv'):\n",
    "        strm7   = 'TFBlade'\n",
    "        df2 = pd.read_csv(i,sep='\\t')\n",
    "        hs7,ol7,nt7,tot7 = hs_for_stmrs(df2)\n",
    "            \n",
    "    elif (i== 'HS_detection/Trick2g_HS_detect_saved.csv'):\n",
    "        strm8 = 'Trick2g'\n",
    "        df2 = pd.read_csv(i,sep='\\t')\n",
    "        hs8,ol8,nt8,tot8 = hs_for_stmrs(df2)\n",
    "\n",
    "    elif (i== 'HS_detection/TSM_Bjergsen_HS_detect_saved.csv'):\n",
    "        strm9  = 'TSM_Bjergsen'\n",
    "        df2 = pd.read_csv(i,sep='\\t')\n",
    "        hs9,ol9,nt9,tot9 = hs_for_stmrs(df2)\n",
    "\n",
    "    elif (i== 'HS_detection/Yassuo_HS_detect_saved.csv'):\n",
    "        strm10 = 'Yassuo'\n",
    "        df2 = pd.read_csv(i,sep='\\t')\n",
    "        hs10,ol10,nt10,tot10 = hs_for_stmrs(df2)\n",
    "    \n",
    "    elif (i== 'HS_detection/TwitchDataset_HS_detect_saved.csv'):# caminho para todo o dataset com todos os comentários\n",
    "        strm11 = 'TwitchDataset_All Data'\n",
    "        df2 = pd.read_csv(i,sep='\\t')\n",
    "        hs11,ol11,nt11,tot11 = hs_for_stmrs(df2)"
   ]
  },
  {
   "cell_type": "code",
   "execution_count": 2,
   "metadata": {},
   "outputs": [],
   "source": [
    "# Unindo os resultados em um lista para transformá-los em um dataframe pandas\n",
    "qt_hs=[hs1,hs2,hs3,hs4,hs5,hs6,hs7,hs8,hs9,hs10]\n",
    "strms= [strm1,strm2,strm3,strm4,strm5,strm6,strm7,strm8,strm9,strm10]\n",
    "qt_ol =[ol1,ol2,ol3,ol4,ol5,ol6,ol7,ol8,ol9,ol10] \n",
    "qt_nt =[nt1,nt2,nt3,nt4,nt5,nt6,nt7,nt8,nt9,nt10]\n",
    "tot =[tot1,tot2,tot3,tot4,tot5,tot6,tot7,tot8,tot9,tot10]\n",
    "dict_Hs = {'Streamer':strms,'Hate Speech':qt_hs,'Offensive Language':qt_ol, 'Neither':qt_nt,'Total':tot}\n",
    "dict_Alldata = {'All Twitch Dataset':[strm11],'Hate Speech':[hs11],'Offensive Language':[ol11], 'Neither':[nt11],'Total':[tot11]}\n",
    "# Transformando os resultados em um dataframe pandas\n",
    "df12 = pd.DataFrame(dict_Hs,columns=['Streamer','Hate Speech','Offensive Language','Neither','Total'])\n",
    "df12 = df12.sort_values(by='Hate Speech',ascending=False)\n",
    "df13 = pd.DataFrame(dict_Alldata,columns=['All Twitch Dataset','Hate Speech','Offensive Language','Neither','Total'])\n",
    "# Salvando resultados em um arquivo .csv\n",
    "#df12.to_csv (r'hs_strmrs.csv', index = None, header=True,sep='\\t',)\n",
    "#df13.to_csv (r'hs_alldataset.csv', index = None, header=True,sep='\\t',)\n"
   ]
  },
  {
   "cell_type": "code",
   "execution_count": 3,
   "metadata": {},
   "outputs": [
    {
     "data": {
      "text/html": [
       "<div>\n",
       "<style scoped>\n",
       "    .dataframe tbody tr th:only-of-type {\n",
       "        vertical-align: middle;\n",
       "    }\n",
       "\n",
       "    .dataframe tbody tr th {\n",
       "        vertical-align: top;\n",
       "    }\n",
       "\n",
       "    .dataframe thead th {\n",
       "        text-align: right;\n",
       "    }\n",
       "</style>\n",
       "<table border=\"1\" class=\"dataframe\">\n",
       "  <thead>\n",
       "    <tr style=\"text-align: right;\">\n",
       "      <th></th>\n",
       "      <th>Streamer</th>\n",
       "      <th>Hate Speech</th>\n",
       "      <th>Offensive Language</th>\n",
       "      <th>Neither</th>\n",
       "      <th>Total</th>\n",
       "    </tr>\n",
       "  </thead>\n",
       "  <tbody>\n",
       "    <tr>\n",
       "      <th>0</th>\n",
       "      <td>C9sneaky</td>\n",
       "      <td>517</td>\n",
       "      <td>3396</td>\n",
       "      <td>59842</td>\n",
       "      <td>63755</td>\n",
       "    </tr>\n",
       "    <tr>\n",
       "      <th>6</th>\n",
       "      <td>TFBlade</td>\n",
       "      <td>491</td>\n",
       "      <td>3491</td>\n",
       "      <td>98384</td>\n",
       "      <td>102366</td>\n",
       "    </tr>\n",
       "    <tr>\n",
       "      <th>3</th>\n",
       "      <td>lolTyler1</td>\n",
       "      <td>482</td>\n",
       "      <td>7997</td>\n",
       "      <td>144030</td>\n",
       "      <td>152509</td>\n",
       "    </tr>\n",
       "    <tr>\n",
       "      <th>4</th>\n",
       "      <td>Nightblue3</td>\n",
       "      <td>249</td>\n",
       "      <td>1247</td>\n",
       "      <td>32021</td>\n",
       "      <td>33517</td>\n",
       "    </tr>\n",
       "    <tr>\n",
       "      <th>9</th>\n",
       "      <td>Yassuo</td>\n",
       "      <td>201</td>\n",
       "      <td>3321</td>\n",
       "      <td>61777</td>\n",
       "      <td>65299</td>\n",
       "    </tr>\n",
       "    <tr>\n",
       "      <th>5</th>\n",
       "      <td>Rush</td>\n",
       "      <td>164</td>\n",
       "      <td>757</td>\n",
       "      <td>30850</td>\n",
       "      <td>31771</td>\n",
       "    </tr>\n",
       "    <tr>\n",
       "      <th>1</th>\n",
       "      <td>DoubleLift</td>\n",
       "      <td>73</td>\n",
       "      <td>913</td>\n",
       "      <td>22898</td>\n",
       "      <td>23884</td>\n",
       "    </tr>\n",
       "    <tr>\n",
       "      <th>7</th>\n",
       "      <td>Trick2g</td>\n",
       "      <td>55</td>\n",
       "      <td>1130</td>\n",
       "      <td>28386</td>\n",
       "      <td>29571</td>\n",
       "    </tr>\n",
       "    <tr>\n",
       "      <th>2</th>\n",
       "      <td>foggedftw2</td>\n",
       "      <td>54</td>\n",
       "      <td>1081</td>\n",
       "      <td>27713</td>\n",
       "      <td>28848</td>\n",
       "    </tr>\n",
       "    <tr>\n",
       "      <th>8</th>\n",
       "      <td>TSM_Bjergsen</td>\n",
       "      <td>12</td>\n",
       "      <td>99</td>\n",
       "      <td>3682</td>\n",
       "      <td>3793</td>\n",
       "    </tr>\n",
       "  </tbody>\n",
       "</table>\n",
       "</div>"
      ],
      "text/plain": [
       "       Streamer  Hate Speech  Offensive Language  Neither   Total\n",
       "0      C9sneaky          517                3396    59842   63755\n",
       "6       TFBlade          491                3491    98384  102366\n",
       "3     lolTyler1          482                7997   144030  152509\n",
       "4    Nightblue3          249                1247    32021   33517\n",
       "9        Yassuo          201                3321    61777   65299\n",
       "5          Rush          164                 757    30850   31771\n",
       "1    DoubleLift           73                 913    22898   23884\n",
       "7       Trick2g           55                1130    28386   29571\n",
       "2    foggedftw2           54                1081    27713   28848\n",
       "8  TSM_Bjergsen           12                  99     3682    3793"
      ]
     },
     "execution_count": 3,
     "metadata": {},
     "output_type": "execute_result"
    }
   ],
   "source": [
    "df12"
   ]
  },
  {
   "cell_type": "code",
   "execution_count": 43,
   "metadata": {},
   "outputs": [
    {
     "data": {
      "text/html": [
       "<div>\n",
       "<style scoped>\n",
       "    .dataframe tbody tr th:only-of-type {\n",
       "        vertical-align: middle;\n",
       "    }\n",
       "\n",
       "    .dataframe tbody tr th {\n",
       "        vertical-align: top;\n",
       "    }\n",
       "\n",
       "    .dataframe thead th {\n",
       "        text-align: right;\n",
       "    }\n",
       "</style>\n",
       "<table border=\"1\" class=\"dataframe\">\n",
       "  <thead>\n",
       "    <tr style=\"text-align: right;\">\n",
       "      <th></th>\n",
       "      <th>All Twitch Dataset</th>\n",
       "      <th>Hate Speech</th>\n",
       "      <th>Offensive Language</th>\n",
       "      <th>Neither</th>\n",
       "      <th>Total</th>\n",
       "    </tr>\n",
       "  </thead>\n",
       "  <tbody>\n",
       "    <tr>\n",
       "      <th>0</th>\n",
       "      <td>TwitchDataset_All Data</td>\n",
       "      <td>2497</td>\n",
       "      <td>19104</td>\n",
       "      <td>461676</td>\n",
       "      <td>483277</td>\n",
       "    </tr>\n",
       "  </tbody>\n",
       "</table>\n",
       "</div>"
      ],
      "text/plain": [
       "       All Twitch Dataset  Hate Speech  Offensive Language  Neither   Total\n",
       "0  TwitchDataset_All Data         2497               19104   461676  483277"
      ]
     },
     "execution_count": 43,
     "metadata": {},
     "output_type": "execute_result"
    }
   ],
   "source": [
    "df13"
   ]
  },
  {
   "cell_type": "markdown",
   "metadata": {},
   "source": [
    "### Visualizando em um Gráfico de Barras"
   ]
  },
  {
   "cell_type": "code",
   "execution_count": 45,
   "metadata": {},
   "outputs": [
    {
     "data": {
      "image/png": "[encoded data removed]",
      "text/plain": [
       "<Figure size 1080x360 with 1 Axes>"
      ]
     },
     "metadata": {
      "needs_background": "light"
     },
     "output_type": "display_data"
    },
    {
     "data": {
      "image/png": "[encoded data removed]",
      "text/plain": [
       "<Figure size 432x288 with 1 Axes>"
      ]
     },
     "metadata": {},
     "output_type": "display_data"
    },
    {
     "name": "stdout",
     "output_type": "stream",
     "text": [
      " Hate Speech: 2497\n",
      " Offensive Language: 19104 \n",
      " Neither: 461676\n"
     ]
    }
   ],
   "source": [
    "%matplotlib inline\n",
    "import pandas as pd\n",
    "import matplotlib.pyplot as plt\n",
    "\n",
    "plt.rcParams.update({'font.size':15})\n",
    "# Plotando gráfico de classificação por streamer\n",
    "ax=df12[['Hate Speech','Offensive Language','Neither']].plot(figsize=(15,5),kind='bar')\n",
    "ax.set_xticklabels(df12['Streamer'], rotation=45)\n",
    "plt.legend(loc='best')\n",
    "plt.xlabel('Streamers')\n",
    "plt.ylabel('Quantidade por Classe')\n",
    "#plt.title('Classificação de Hate Speech, Offensive Language e Neither por Streamer')\n",
    "\n",
    "#Plotando gráfico de classificação de todo o dataset\n",
    "#ax2=df13[['Hate Speech','Offensive Language','Neither']].plot(figsize=(10,5),kind='bar')\n",
    "#ax2.set_xticklabels(df13['All Twitch Dataset'], rotation=0)\n",
    "#plt.legend(loc='best')\n",
    "#plt.xlabel('Comentários de todo o Dataset')\n",
    "#plt.ylabel('Quantidade por Classe')\n",
    "#plt.title('Classificação de Hate Speech,Offensive Language e Neither para todo o Dataset')\n",
    "\n",
    "#print(\" Hate Speech: %d\\n\" % hs11,\n",
    "      #\"Offenseive Language: %d \\n\" % ol11,\n",
    "      #\"Neither: %d\" % nt11)\n",
    "labels = 'Hate Speech','Offensive Language','Neither',\n",
    "sizes = [hs11, ol11, nt11]\n",
    "explode = (0.3, 0.3, 0.2)  # Explode all sides\n",
    "plt.rcParams.update({'font.size':13})\n",
    "fig1, ax1 = plt.subplots()\n",
    "ax1.pie(sizes, explode=explode, labels=labels, autopct='%1.1f%%',\n",
    "        shadow=True, startangle=180)\n",
    "ax1.axis('equal')  # Equal aspect ratio ensures that pie is drawn as a circle.\n",
    "plt.title('Classificação de Hate Speech,Offensive Language e Neither para todo o Dataset')\n",
    "\n",
    "plt.show()\n",
    "\n",
    "\n",
    "print(\" Hate Speech: %d\\n\" % hs11,\n",
    "      \"Offensive Language: %d \\n\" % ol11,\n",
    "      \"Neither: %d\" % nt11)"
   ]
  }
 ],
 "metadata": {
  "kernelspec": {
   "display_name": "Python 3",
   "language": "python",
   "name": "python3"
  },
  "language_info": {
   "codemirror_mode": {
    "name": "ipython",
    "version": 3
   },
   "file_extension": ".py",
   "mimetype": "text/x-python",
   "name": "python",
   "nbconvert_exporter": "python",
   "pygments_lexer": "ipython3",
   "version": "3.7.3"
  }
 },
 "nbformat": 4,
 "nbformat_minor": 4
}
